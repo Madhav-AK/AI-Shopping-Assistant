{
 "cells": [
  {
   "cell_type": "code",
   "execution_count": null,
   "id": "7b99ec49",
   "metadata": {},
   "outputs": [],
   "source": [
    "import json\n",
    "from collections import defaultdict\n",
    "with open(\"old_brand_mapping.json\", 'r') as f:\n",
    "\tdata = json.load(f)\n",
    "\n",
    "new = defaultdict(dict)\n",
    "for item in data:\n",
    "\tcat, subcat, name = item.split('_')\n",
    "\tnew[f\"{cat}_{subcat}\"][name] = data[item].lower()\n",
    "\t\n",
    "with open(\"brand_mapping.json\", 'w') as f:\n",
    "\tjson.dump(new, f)"
   ]
  },
  {
   "cell_type": "code",
   "execution_count": 8,
   "id": "2ad25dc0",
   "metadata": {},
   "outputs": [
    {
     "data": {
      "text/plain": [
       "686"
      ]
     },
     "execution_count": 8,
     "metadata": {},
     "output_type": "execute_result"
    }
   ],
   "source": [
    "import json\n",
    "\n",
    "with open(\"brand_mapping.json\", 'r') as f:\n",
    "\tdata = json.load(f)\n",
    "\t\n",
    "raw_brands = set()\n",
    "\t\n",
    "for cat in data:\n",
    "\tfor item in data[cat]:\n",
    "\t\traw_brands.add(data[cat][item])\n",
    "\n",
    "len(raw_brands)"
   ]
  },
  {
   "cell_type": "code",
   "execution_count": 2,
   "id": "3aa6c1a2",
   "metadata": {},
   "outputs": [],
   "source": [
    "avg_price_variance_by_class = {\n",
    "    \"Boots\\\\Ankle\": (120, 1600),\n",
    "    \"Boots\\\\Knee High\": (180, 2500),\n",
    "    \"Boots\\\\Mid-Calf\": (140, 1800),\n",
    "    \"Boots\\\\Over the Knee\": (220, 3600),\n",
    "    \"Boots\\\\Prewalker Boots\": (45, 225),\n",
    "\n",
    "    \"Sandals\\\\Athletic\": (60, 600),\n",
    "    \"Sandals\\\\Flat\": (50, 500),\n",
    "    \"Sandals\\\\Heel\": (70, 700),\n",
    "\n",
    "    \"Shoes\\\\Boat Shoes\": (90, 900),\n",
    "    \"Shoes\\\\Clogs and Mules\": (70, 700),\n",
    "    \"Shoes\\\\Crib Shoes\": (40, 200),\n",
    "    \"Shoes\\\\Firstwalker\": (45, 225),\n",
    "    \"Shoes\\\\Flats\": (65, 650),\n",
    "    \"Shoes\\\\Heels\": (100, 1000),\n",
    "    \"Shoes\\\\Loafers\": (95, 950),\n",
    "    \"Shoes\\\\Oxfords\": (110, 1100),\n",
    "    \"Shoes\\\\Prewalker\": (40, 200),\n",
    "    \"Shoes\\\\Sneakers and Athletic Shoes\": (85, 850),\n",
    "\n",
    "    \"Slippers\\\\Boot\": (50, 500),\n",
    "    \"Slippers\\\\Slipper Flats\": (40, 200),\n",
    "    \"Slippers\\\\Slipper Heels\": (55, 550),\n",
    "}"
   ]
  },
  {
   "cell_type": "code",
   "execution_count": 7,
   "id": "cd36909f",
   "metadata": {},
   "outputs": [],
   "source": [
    "import json\n",
    "import random\n",
    "from math import ceil\n",
    "\n",
    "with open(\"old_brand_mapping.json\", 'r') as f:\n",
    "\tdata = json.load(f)\n",
    "\n",
    "# Creating dummy price data based on general known means and variances of our shoe categories\n",
    "\n",
    "new = {}\n",
    "for cat in data:\n",
    "\tnew[cat] = {}\n",
    "\tmu, var = avg_price_variance_by_class[cat.replace('_','\\\\')]\n",
    "\tstd = var**0.5\n",
    "\tfor item in data[cat]:\n",
    "\t\tprice = 0\n",
    "\t\twhile price < 10:\n",
    "\t\t\tprice = random.gauss(mu, std)\n",
    "\t\tnew[cat][item] = (data[cat][item], ceil(price*85/100)*100)\n",
    "\n",
    "with open(\"brand_mapping.json\", 'w') as f:\n",
    "\tjson.dump(new, f)"
   ]
  }
 ],
 "metadata": {
  "kernelspec": {
   "display_name": "venv",
   "language": "python",
   "name": "python3"
  },
  "language_info": {
   "codemirror_mode": {
    "name": "ipython",
    "version": 3
   },
   "file_extension": ".py",
   "mimetype": "text/x-python",
   "name": "python",
   "nbconvert_exporter": "python",
   "pygments_lexer": "ipython3",
   "version": "3.12.5"
  }
 },
 "nbformat": 4,
 "nbformat_minor": 5
}
